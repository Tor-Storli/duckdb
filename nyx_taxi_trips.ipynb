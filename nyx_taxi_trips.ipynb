{
 "cells": [
  {
   "cell_type": "markdown",
   "id": "6f76b253",
   "metadata": {},
   "source": [
    "- #### Download data from here:<br>\n",
    "https://github.com/cwida/duckdb-data/releases/download/v1.0/taxi_2019_04.parquet <br>\n",
    "https://github.com/cwida/duckdb-data/releases/download/v1.0/taxi_2019_05.parquet <br>\n",
    "https://github.com/cwida/duckdb-data/releases/download/v1.0/taxi_2019_06.parquet\n"
   ]
  },
  {
   "cell_type": "markdown",
   "id": "34eb8d86",
   "metadata": {
    "papermill": {
     "duration": 0.00981,
     "end_time": "2023-11-13T02:34:29.154247",
     "exception": false,
     "start_time": "2023-11-13T02:34:29.144437",
     "status": "completed"
    },
    "tags": []
   },
   "source": [
    "### Install Python Libraries\n"
   ]
  },
  {
   "cell_type": "markdown",
   "id": "b5b0ba5f",
   "metadata": {},
   "source": [
    "#### Run this command in your python (virtual) environment\n"
   ]
  },
  {
   "cell_type": "markdown",
   "id": "2474d7f2",
   "metadata": {
    "papermill": {
     "duration": 16.751593,
     "end_time": "2023-11-13T02:34:45.915211",
     "exception": false,
     "start_time": "2023-11-13T02:34:29.163618",
     "status": "completed"
    },
    "tags": []
   },
   "source": [
    "#### <i> `pip install duckdb magic_duckdb polars plotly_express nbformat --quiet --user` </i>\n"
   ]
  },
  {
   "cell_type": "markdown",
   "id": "bb101e17",
   "metadata": {},
   "source": [
    "#### 1. duckdb:\n",
    "\n",
    "DuckDB is an embedded analytical SQL database for Python.\n",
    "It is designed for fast query execution and low memory usage.\n",
    "Developers often use it for data analysis, data manipulation, and reporting.\n",
    "You can find more information about DuckDB on their official website .\n",
    "\n",
    "#### 2. magic_duckdb:\n",
    "\n",
    "magic_duckdb is a Python package that provides Jupyter Notebook magic commands for interacting with DuckDB.\n",
    "It allows you to run SQL queries against DuckDB directly within a Jupyter Notebook.\n",
    "You can explore its usage and documentation in the GitHub repository: <br> https://github.com/iqmo-org/magic_duckdb, or here:<br>https://pypi.org/project/magic-duckdb/\n",
    "\n",
    "#### 3. Polars:\n",
    "\n",
    "Polars is a fast DataFrame library for Python and Rust.\n",
    "It is designed for big data processing and provides a similar interface to Pandas.\n",
    "Polars is particularly useful for working with large datasets efficiently.\n",
    "To learn more about Polars visit the official website:<br> https://pola.rs/\n",
    "\n",
    "#### 4. Plotly Express:\n",
    "\n",
    "Plotly Express is a high-level Python visualization library built on top of Plotly.\n",
    "It simplifies the creation of interactive plots, charts, and graphs.\n",
    "With Plotly Express, you can quickly generate visualizations without writing extensive code.\n",
    "Explore its capabilities in the official documentation: <br>https://plotly.com/python/plotly-express/\n",
    "\n",
    "#### 5. nbformat:\n",
    "\n",
    "nbformat is a Python library for working with Jupyter Notebook file formats.\n",
    "It allows you to read, write, and manipulate Jupyter Notebook files programmatically.\n",
    "Developers often use it for tasks like converting notebooks to different formats or extracting cell content.\n",
    "You can find more details in the official documentation: <br>https://nbformat.readthedocs.io/en/latest/ and here: <br>https://pypi.org/project/nbformat/\n"
   ]
  },
  {
   "cell_type": "markdown",
   "id": "282d3699",
   "metadata": {},
   "source": [
    "#### Use the `--quiet` flag to suppress output during installation, and the `--user` flag to install the packages in your user-specific Python environment.\n"
   ]
  },
  {
   "cell_type": "code",
   "execution_count": null,
   "id": "8afe5265",
   "metadata": {},
   "outputs": [],
   "source": [
    "# .torenv\\Scripts\\Activate.ps1"
   ]
  },
  {
   "cell_type": "code",
   "execution_count": null,
   "id": "f5405b1d",
   "metadata": {
    "papermill": {
     "duration": 1.752742,
     "end_time": "2023-11-13T02:35:02.517852",
     "exception": false,
     "start_time": "2023-11-13T02:35:00.765110",
     "status": "completed"
    },
    "tags": []
   },
   "outputs": [],
   "source": [
    "import duckdb\n",
    "import pandas as pd\n",
    "#import plotly_express as px\n",
    "\n",
    "%load_ext magic_duckdb"
   ]
  },
  {
   "cell_type": "markdown",
   "id": "9ee647a6",
   "metadata": {
    "papermill": {
     "duration": 0.010081,
     "end_time": "2023-11-13T02:35:02.789867",
     "exception": false,
     "start_time": "2023-11-13T02:35:02.779786",
     "status": "completed"
    },
    "tags": []
   },
   "source": [
    "#### We already installed and loaded the duckdb magic in our notebook. Let us take advantage of it <br>so that we don't repeate `duckdb.sql` ever time. <br>Instead we can use: <br>\n",
    "\n",
    "- `%dql` for single line queries and:<br>\n",
    "- `%%dql` for multi-line queries instead\n"
   ]
  },
  {
   "cell_type": "markdown",
   "id": "9d2e6616",
   "metadata": {
    "papermill": {
     "duration": 0.010418,
     "end_time": "2023-11-13T02:35:02.885296",
     "exception": false,
     "start_time": "2023-11-13T02:35:02.874878",
     "status": "completed"
    },
    "tags": []
   },
   "source": [
    "##### Because we are using the magic_duckdb extension, our queries will return a Pandas DataFrame, <br> bringing the entire query result into memory.\n",
    "\n",
    "##### We can avoid this by setting the type of return by using `\"-t\"` followed by the type, choosing from \"df\", \"arrow\", \"pl\", \"describe\", \"show\" and \"relation\".\n"
   ]
  },
  {
   "cell_type": "markdown",
   "id": "7025cb5f",
   "metadata": {},
   "source": [
    "#### We can also query files over the internet using duckdb's `httpfs` extension"
   ]
  },
  {
   "cell_type": "code",
   "execution_count": null,
   "id": "4fd94867",
   "metadata": {},
   "outputs": [],
   "source": [
    "%%dql -t df\n",
    "LOAD  httpfs;\n",
    "SELECT format('{:,}', COUNT(*)) as count \n",
    "FROM 'https://github.com/cwida/duckdb-data/releases/download/v1.0/taxi_2019_04.parquet'"
   ]
  },
  {
   "cell_type": "code",
   "execution_count": null,
   "id": "2da61f6f",
   "metadata": {},
   "outputs": [],
   "source": [
    "%%time\n",
    "%%dql -t show\n",
    "SELECT * FROM 'https://github.com/cwida/duckdb-data/releases/download/v1.0/taxi_2019_04.parquet' LIMIT 5;"
   ]
  },
  {
   "cell_type": "markdown",
   "id": "572fa04d",
   "metadata": {},
   "source": [
    "#### Let us inspect the internet parquet file from our local duckdb using the httpfs extension\n"
   ]
  },
  {
   "cell_type": "code",
   "execution_count": null,
   "id": "8667fea2",
   "metadata": {},
   "outputs": [],
   "source": [
    "%%time\n",
    "%%dql\n",
    "SELECT COUNT(*) AS RowCount, \n",
    "       AVG(passenger_count) AS avg_number_of_passengers,\n",
    "       AVG(trip_distance) AS avg_trip_distance,\n",
    "       MAX(trip_distance) AS max_trip_distance,\n",
    "       AVG(fare_amount) AS avg_fare_amount,\n",
    "       MAX(fare_amount) AS max_fare_amount,\n",
    "       AVG(tip_amount) AS avg_tip_amount,\n",
    "       MAX(tip_amount) AS max_tip_amount FROM 'https://github.com/cwida/duckdb-data/releases/download/v1.0/taxi_2019_04.parquet';"
   ]
  },
  {
   "cell_type": "markdown",
   "id": "022e6892",
   "metadata": {},
   "source": [
    "#### Find current working directory path"
   ]
  },
  {
   "cell_type": "code",
   "execution_count": null,
   "id": "01066f06",
   "metadata": {},
   "outputs": [],
   "source": [
    "%pwd "
   ]
  },
  {
   "cell_type": "markdown",
   "id": "c20ef128",
   "metadata": {},
   "source": [
    "#### Let us create a local copy of the internet taxi_2019_04 parquet file"
   ]
  },
  {
   "cell_type": "code",
   "execution_count": null,
   "id": "87538b55",
   "metadata": {},
   "outputs": [],
   "source": [
    "%%time\n",
    "%%dql\n",
    "COPY (SELECT * FROM READ_PARQUET('https://github.com/cwida/duckdb-data/releases/download/v1.0/taxi_2019_04.parquet'))\n",
    "      TO 'taxi_2019_04.parquet' (FORMAT 'parquet');"
   ]
  },
  {
   "cell_type": "markdown",
   "id": "54a95dc0",
   "metadata": {},
   "source": [
    "#### Let us verify rowcount in the newly created parquet file"
   ]
  },
  {
   "cell_type": "code",
   "execution_count": null,
   "id": "ca9356f6",
   "metadata": {},
   "outputs": [],
   "source": [
    "%dql -t df SELECT format('{:,}', COUNT(*)) as count FROM 'taxi_2019_04.parquet';"
   ]
  },
  {
   "cell_type": "markdown",
   "id": "29573d70",
   "metadata": {},
   "source": [
    "#### We can also exclude columns using an matching expression"
   ]
  },
  {
   "cell_type": "code",
   "execution_count": null,
   "id": "93c3671a",
   "metadata": {},
   "outputs": [],
   "source": [
    "%%dql -t df\n",
    "SELECT COLUMNS(c -> c LIKE 'to%') FROM 'taxi_2019_04.parquet' limit 5;"
   ]
  },
  {
   "cell_type": "markdown",
   "id": "6a4cdf2d",
   "metadata": {},
   "source": [
    "#### Let us look at the datatypes in the parquet file - <i>Note the duckdb sql syntax </i>"
   ]
  },
  {
   "cell_type": "code",
   "execution_count": null,
   "id": "2d7c6244",
   "metadata": {},
   "outputs": [],
   "source": [
    "%%dql\n",
    "DESCRIBE FROM 'taxi_2019_04.parquet';"
   ]
  },
  {
   "cell_type": "markdown",
   "id": "6aa74c47",
   "metadata": {},
   "source": [
    "### Let us lok at the Parquet file\n"
   ]
  },
  {
   "cell_type": "markdown",
   "id": "570958e2",
   "metadata": {},
   "source": [
    "#### Let us take a look at the parquet file's metadata"
   ]
  },
  {
   "cell_type": "code",
   "execution_count": null,
   "id": "ddf1a324",
   "metadata": {},
   "outputs": [],
   "source": [
    "%%dql \n",
    "SELECT *\n",
    "FROM parquet_metadata('taxi_2019_04.parquet')"
   ]
  },
  {
   "cell_type": "markdown",
   "id": "e6c3bf91",
   "metadata": {},
   "source": [
    "#### Let us limit the number of columns to what we are looking for"
   ]
  },
  {
   "cell_type": "code",
   "execution_count": null,
   "id": "9c0f92e2-ab48-479c-91fd-f91558295eb0",
   "metadata": {},
   "outputs": [],
   "source": [
    "%%dql \n",
    "SELECT file_name, total_compressed_size, total_uncompressed_size \n",
    "FROM parquet_metadata('taxi_2019_04.parquet')"
   ]
  },
  {
   "cell_type": "markdown",
   "id": "8bf27255",
   "metadata": {},
   "source": [
    "#### Let us see how much space the parquet file takes up on disk"
   ]
  },
  {
   "cell_type": "code",
   "execution_count": null,
   "id": "9b7429e5-4e78-48b9-b6de-3c7d2f647b15",
   "metadata": {},
   "outputs": [],
   "source": [
    "%%dql -t df\n",
    "SELECT \n",
    "       format('{:,}', CAST(ROUND((sum(total_compressed_size) / (1024))) AS INT)) as compressed_KB,\n",
    "       format('{:,}', CAST(ROUND((sum(total_uncompressed_size) / (1024))) AS INT)) as uncompressed_KB,\n",
    "       format('{:,}', CAST(ROUND((sum(total_compressed_size) / (1024 * 1024))) AS INT)) as compressed_MB,\n",
    "       format('{:,}', CAST(ROUND((sum(total_uncompressed_size) / (1024 * 1024))) AS INT)) as uncompressed_MB,\n",
    "       sum(total_compressed_size) / (1024 * 1024 * 1024) as compressed_GB,\n",
    "       sum(total_uncompressed_size) / (1024 * 1024 * 1024) as uncompressed_GB    \n",
    "FROM parquet_metadata('taxi_2019_04.parquet')"
   ]
  },
  {
   "cell_type": "markdown",
   "id": "f5236772-bc9c-4a4f-8f5a-7c76748e295e",
   "metadata": {},
   "source": [
    "### Do not show any Pandas dataframe numbers with scientific notation\n"
   ]
  },
  {
   "cell_type": "code",
   "execution_count": null,
   "id": "cf7bcbd5-53d4-4480-b7b7-6c797c46f83b",
   "metadata": {},
   "outputs": [],
   "source": [
    "pd.set_option('display.float_format', '{:.2f}'.format)  # Show 2 decimal places"
   ]
  },
  {
   "cell_type": "markdown",
   "id": "654e0d05",
   "metadata": {},
   "source": [
    "#### Let us look at some aggregates from our data"
   ]
  },
  {
   "cell_type": "code",
   "execution_count": null,
   "id": "4c34c47b",
   "metadata": {},
   "outputs": [],
   "source": [
    "%%time\n",
    "%%dql -t show\n",
    "SELECT format('{:,}', COUNT(*)) AS RowCount, \n",
    "       AVG(passenger_count) AS avg_number_of_passengers,\n",
    "       AVG(trip_distance) AS avg_trip_distance,\n",
    "       MAX(trip_distance) AS max_trip_distance,\n",
    "       AVG(fare_amount) AS avg_fare_amount,\n",
    "       MAX(fare_amount) AS max_fare_amount,\n",
    "       AVG(tip_amount) AS avg_tip_amount,\n",
    "       MAX(tip_amount) AS max_tip_amount FROM 'taxi_2019_04.parquet';"
   ]
  },
  {
   "cell_type": "markdown",
   "id": "45742001",
   "metadata": {},
   "source": [
    "#### Notice the extreme fare_amount value ($395,839.94)"
   ]
  },
  {
   "cell_type": "markdown",
   "id": "fc92babe",
   "metadata": {},
   "source": [
    "#### We need to inspect that record. It could be a corrupt record."
   ]
  },
  {
   "cell_type": "code",
   "execution_count": null,
   "id": "a47567f5",
   "metadata": {},
   "outputs": [],
   "source": [
    "%dql SELECT * FROM 'taxi_2019_04.parquet' WHERE fare_amount = (SELECT MAX(fare_amount) FROM 'taxi_2019_04.parquet');"
   ]
  },
  {
   "cell_type": "markdown",
   "id": "118a414f",
   "metadata": {},
   "source": [
    "#### <i>As we suspected there is a problem with paying that fare_amount for a trip_distance of 0.00 miles. <br>Also notice the pickup_at, dropoff_at timestamps as well as pickup_location_id and dropoff_location_id.</i>"
   ]
  },
  {
   "cell_type": "markdown",
   "id": "16182ec1",
   "metadata": {},
   "source": [
    "### If you wish to merge duckdb sql queries and python code, you should use the duckdb.sql('...') query method, "
   ]
  },
  {
   "cell_type": "code",
   "execution_count": null,
   "id": "de44b7e8",
   "metadata": {},
   "outputs": [],
   "source": [
    "var1 = duckdb.sql(\" SELECT COUNT(*) FROM 'taxi_2019_04.parquet' WHERE pickup_at BETWEEN '2019-04-10' AND '2019-04-12'\");\n",
    "print(var1)"
   ]
  },
  {
   "cell_type": "markdown",
   "id": "57947c51",
   "metadata": {},
   "source": [
    "### or use the `%dql -o <variablename>` method."
   ]
  },
  {
   "cell_type": "code",
   "execution_count": null,
   "id": "005c01a5",
   "metadata": {},
   "outputs": [],
   "source": [
    "%dql -o var2 SELECT COUNT(*) FROM 'taxi_2019_04.parquet' WHERE pickup_at BETWEEN '2019-04-10' AND '2019-04-12'\n",
    "print(var2)"
   ]
  },
  {
   "cell_type": "markdown",
   "id": "a77c7457",
   "metadata": {},
   "source": [
    "## More magic_duckdb"
   ]
  },
  {
   "cell_type": "markdown",
   "id": "8a797e44",
   "metadata": {},
   "source": [
    "#### List available dql types "
   ]
  },
  {
   "cell_type": "code",
   "execution_count": null,
   "id": "3045c68d",
   "metadata": {},
   "outputs": [],
   "source": [
    "%dql --listtypes"
   ]
  },
  {
   "cell_type": "markdown",
   "id": "4b97216b",
   "metadata": {},
   "source": [
    "#### List all tables used in the query"
   ]
  },
  {
   "cell_type": "code",
   "execution_count": null,
   "id": "6110edcb",
   "metadata": {},
   "outputs": [],
   "source": [
    "%dql --tables  SELECT COUNT(*) As qCount FROM 'taxi_2019_04.parquet'"
   ]
  },
  {
   "cell_type": "markdown",
   "id": "6ae5b423",
   "metadata": {},
   "source": [
    "#### Get the connection created within DQL and use it directly"
   ]
  },
  {
   "cell_type": "code",
   "execution_count": null,
   "id": "822f3f8d",
   "metadata": {},
   "outputs": [],
   "source": [
    "con = %dql --getcon\n",
    "display(con.sql(\"pragma version\").df())"
   ]
  },
  {
   "cell_type": "markdown",
   "id": "410745c9",
   "metadata": {},
   "source": [
    "#### Create a table in an existing database `taxi_2019_04.db`"
   ]
  },
  {
   "cell_type": "code",
   "execution_count": null,
   "id": "92be1357",
   "metadata": {},
   "outputs": [],
   "source": [
    "dql_con = duckdb.connect(\"taxi_2019_04.db\")\n",
    "dql_test_con.sql(\"CREATE OR REPLACE TABLE xyz as select * from range(100)\")\n",
    "\n",
    "# -co sets the connection to an existing object\n",
    "%dql -co dql_test_con\n",
    "%dql select count(*) from xyz"
   ]
  },
  {
   "cell_type": "markdown",
   "id": "be3cd6f3",
   "metadata": {},
   "source": [
    "#### We can also pass parameters to the query"
   ]
  },
  {
   "cell_type": "code",
   "execution_count": null,
   "id": "4a3a7f73",
   "metadata": {},
   "outputs": [],
   "source": [
    "startdate = '2019-04-22'\n",
    "enddate = '2019-04-25'\n",
    "%dql -p startdate -p enddate -o outvar SELECT COUNT(*) As qCount FROM 'taxi_2019_04.parquet' WHERE pickup_at BETWEEN ? AND ?;\n",
    "print(outvar)"
   ]
  },
  {
   "cell_type": "markdown",
   "id": "e64039cf",
   "metadata": {},
   "source": [
    "### Create a new persistent duckdb database for the nyc_taxi_data\n"
   ]
  },
  {
   "cell_type": "code",
   "execution_count": null,
   "id": "b9dd2294",
   "metadata": {},
   "outputs": [],
   "source": [
    "con = duckdb.connect(\"taxi_2019_04_06.db\") \n",
    "con.close()"
   ]
  },
  {
   "cell_type": "markdown",
   "id": "d1516d2f",
   "metadata": {},
   "source": [
    "#### Create a connection explicitly, and pass it explicitly to the dql connection. <br>dql by default will use the duckdb default connection"
   ]
  },
  {
   "cell_type": "markdown",
   "id": "e79eb70a",
   "metadata": {},
   "source": [
    "#### Create a table from a our taxi_2019_04 Parquet file"
   ]
  },
  {
   "cell_type": "code",
   "execution_count": null,
   "id": "58646a70",
   "metadata": {},
   "outputs": [],
   "source": [
    "con = duckdb.connect(\"taxi_2019_04_06.db\")\n",
    "con.execute(\"CREATE OR REPLACE TABLE taxi_trips AS (SELECT * FROM 'taxi_2019_*.parquet');\")"
   ]
  },
  {
   "cell_type": "markdown",
   "id": "eb11c07a",
   "metadata": {},
   "source": [
    "#### The `-co` sets the connection to an existing database object"
   ]
  },
  {
   "cell_type": "code",
   "execution_count": null,
   "id": "de846a83",
   "metadata": {},
   "outputs": [],
   "source": [
    "%dql -co con\n",
    "%dql SELECT format('{:,}', COUNT(*)) AS count FROM taxi_trips;"
   ]
  },
  {
   "cell_type": "markdown",
   "id": "a9b10bc6",
   "metadata": {},
   "source": [
    "#### We can also convert to pandas dataFrame directly from your duckdb query<br> by adding the \".df()\" function\n",
    "#### Query the first 10 rows of the newly created taxi_trips data. <br> ####\n",
    "#### <i>Notice that I use duckdb's to pandas dataframe `df()` at the end of the query.</i>\n"
   ]
  },
  {
   "cell_type": "code",
   "execution_count": null,
   "id": "e2501489",
   "metadata": {},
   "outputs": [],
   "source": [
    "con.sql(\"SELECT * FROM taxi_trips LIMIT 3\").df()"
   ]
  },
  {
   "cell_type": "markdown",
   "id": "620268c0",
   "metadata": {
    "papermill": {
     "duration": 0.008972,
     "end_time": "2023-11-13T02:35:02.536347",
     "exception": false,
     "start_time": "2023-11-13T02:35:02.527375",
     "status": "completed"
    },
    "tags": []
   },
   "source": [
    "## Analyzing Data with DuckDB\n"
   ]
  },
  {
   "cell_type": "markdown",
   "id": "8f6799be",
   "metadata": {
    "papermill": {
     "duration": 0.008937,
     "end_time": "2023-11-13T02:35:02.554605",
     "exception": false,
     "start_time": "2023-11-13T02:35:02.545668",
     "status": "completed"
    },
    "tags": []
   },
   "source": [
    "### SQL queries using DuckDB:\n",
    "\n",
    "To run SQL queries in DuckDB we can directly use \".sql\", no need to create a connection to \":memory:\"\n",
    "\n",
    "Every DataFrame inside this notebook will be instantly available for DuckDB to make SQL queries against.\n"
   ]
  },
  {
   "cell_type": "code",
   "execution_count": null,
   "id": "498d595c",
   "metadata": {},
   "outputs": [],
   "source": [
    "%dql SUMMARIZE SELECT * FROM taxi_trips WHERE vendor_id = 1;"
   ]
  },
  {
   "cell_type": "markdown",
   "id": "db49a36e",
   "metadata": {},
   "source": [
    "#### Let us look at the Datatypes in the table"
   ]
  },
  {
   "cell_type": "code",
   "execution_count": null,
   "id": "61fcf973",
   "metadata": {},
   "outputs": [],
   "source": [
    "%dql -co con\n",
    "%dql DESCRIBE taxi_trips;"
   ]
  },
  {
   "cell_type": "markdown",
   "id": "ff12be1a",
   "metadata": {},
   "source": [
    "#### Let us test out query speed in the new duckdb table"
   ]
  },
  {
   "cell_type": "code",
   "execution_count": null,
   "id": "435402dd",
   "metadata": {},
   "outputs": [],
   "source": [
    "%%time\n",
    "%%dql\n",
    "SELECT format('{:,}', COUNT(*)) AS RowCount, \n",
    "       AVG(passenger_count) AS avg_number_of_passengers,\n",
    "       AVG(trip_distance) AS avg_trip_distance,\n",
    "       MAX(trip_distance) AS max_trip_distance,\n",
    "       AVG(fare_amount) AS avg_fare_amount,\n",
    "       MAX(fare_amount) AS max_fare_amount,\n",
    "       AVG(tip_amount) AS avg_tip_amount,\n",
    "       MAX(tip_amount) AS max_tip_amount FROM taxi_trips;"
   ]
  },
  {
   "cell_type": "markdown",
   "id": "ccace552",
   "metadata": {},
   "source": [
    "#### END OF FILE\n"
   ]
  }
 ],
 "metadata": {
  "kernelspec": {
   "display_name": "Python 3 (ipykernel)",
   "language": "python",
   "name": "python3"
  },
  "language_info": {
   "codemirror_mode": {
    "name": "ipython",
    "version": 3
   },
   "file_extension": ".py",
   "mimetype": "text/x-python",
   "name": "python",
   "nbconvert_exporter": "python",
   "pygments_lexer": "ipython3",
   "version": "3.10.13"
  },
  "papermill": {
   "default_parameters": {},
   "duration": 63.440365,
   "end_time": "2023-11-13T02:35:29.131027",
   "environment_variables": {},
   "exception": null,
   "input_path": "__notebook__.ipynb",
   "output_path": "__notebook__.ipynb",
   "parameters": {},
   "start_time": "2023-11-13T02:34:25.690662",
   "version": "2.4.0"
  },
  "widgets": {
   "application/vnd.jupyter.widget-state+json": {
    "state": {
     "003fb92d1b4f46a0b7f2f84c16a6d040": {
      "model_module": "@jupyter-widgets/controls",
      "model_module_version": "1.5.0",
      "model_name": "FloatProgressModel",
      "state": {
       "_dom_classes": [],
       "_model_module": "@jupyter-widgets/controls",
       "_model_module_version": "1.5.0",
       "_model_name": "FloatProgressModel",
       "_view_count": null,
       "_view_module": "@jupyter-widgets/controls",
       "_view_module_version": "1.5.0",
       "_view_name": "ProgressView",
       "bar_style": "",
       "description": "",
       "description_tooltip": null,
       "layout": "IPY_MODEL_bd8e882a876c490cbbed0e87b47195f6",
       "max": 100,
       "min": 0,
       "orientation": "horizontal",
       "style": "IPY_MODEL_0f0edde2962e43e8a958fa8b141e281d",
       "value": 100
      }
     },
     "0f0edde2962e43e8a958fa8b141e281d": {
      "model_module": "@jupyter-widgets/controls",
      "model_module_version": "1.5.0",
      "model_name": "ProgressStyleModel",
      "state": {
       "_model_module": "@jupyter-widgets/controls",
       "_model_module_version": "1.5.0",
       "_model_name": "ProgressStyleModel",
       "_view_count": null,
       "_view_module": "@jupyter-widgets/base",
       "_view_module_version": "1.2.0",
       "_view_name": "StyleView",
       "bar_color": "black",
       "description_width": ""
      }
     },
     "532bc91b170e41b3a629468eea9597e0": {
      "model_module": "@jupyter-widgets/controls",
      "model_module_version": "1.5.0",
      "model_name": "ProgressStyleModel",
      "state": {
       "_model_module": "@jupyter-widgets/controls",
       "_model_module_version": "1.5.0",
       "_model_name": "ProgressStyleModel",
       "_view_count": null,
       "_view_module": "@jupyter-widgets/base",
       "_view_module_version": "1.2.0",
       "_view_name": "StyleView",
       "bar_color": "black",
       "description_width": ""
      }
     },
     "7916d1d878c94b0fa620cd24ba70cc6d": {
      "model_module": "@jupyter-widgets/controls",
      "model_module_version": "1.5.0",
      "model_name": "FloatProgressModel",
      "state": {
       "_dom_classes": [],
       "_model_module": "@jupyter-widgets/controls",
       "_model_module_version": "1.5.0",
       "_model_name": "FloatProgressModel",
       "_view_count": null,
       "_view_module": "@jupyter-widgets/controls",
       "_view_module_version": "1.5.0",
       "_view_name": "ProgressView",
       "bar_style": "",
       "description": "",
       "description_tooltip": null,
       "layout": "IPY_MODEL_a0844f1634b840ffb01457c3e71cdde8",
       "max": 100,
       "min": 0,
       "orientation": "horizontal",
       "style": "IPY_MODEL_83dc9071519742f796fbcf7e710edd13",
       "value": 100
      }
     },
     "83dc9071519742f796fbcf7e710edd13": {
      "model_module": "@jupyter-widgets/controls",
      "model_module_version": "1.5.0",
      "model_name": "ProgressStyleModel",
      "state": {
       "_model_module": "@jupyter-widgets/controls",
       "_model_module_version": "1.5.0",
       "_model_name": "ProgressStyleModel",
       "_view_count": null,
       "_view_module": "@jupyter-widgets/base",
       "_view_module_version": "1.2.0",
       "_view_name": "StyleView",
       "bar_color": "black",
       "description_width": ""
      }
     },
     "a0844f1634b840ffb01457c3e71cdde8": {
      "model_module": "@jupyter-widgets/base",
      "model_module_version": "1.2.0",
      "model_name": "LayoutModel",
      "state": {
       "_model_module": "@jupyter-widgets/base",
       "_model_module_version": "1.2.0",
       "_model_name": "LayoutModel",
       "_view_count": null,
       "_view_module": "@jupyter-widgets/base",
       "_view_module_version": "1.2.0",
       "_view_name": "LayoutView",
       "align_content": null,
       "align_items": null,
       "align_self": null,
       "border": null,
       "bottom": null,
       "display": null,
       "flex": null,
       "flex_flow": null,
       "grid_area": null,
       "grid_auto_columns": null,
       "grid_auto_flow": null,
       "grid_auto_rows": null,
       "grid_column": null,
       "grid_gap": null,
       "grid_row": null,
       "grid_template_areas": null,
       "grid_template_columns": null,
       "grid_template_rows": null,
       "height": null,
       "justify_content": null,
       "justify_items": null,
       "left": null,
       "margin": null,
       "max_height": null,
       "max_width": null,
       "min_height": null,
       "min_width": null,
       "object_fit": null,
       "object_position": null,
       "order": null,
       "overflow": null,
       "overflow_x": null,
       "overflow_y": null,
       "padding": null,
       "right": null,
       "top": null,
       "visibility": null,
       "width": "auto"
      }
     },
     "b45572af1bb340ee953203269545e738": {
      "model_module": "@jupyter-widgets/controls",
      "model_module_version": "1.5.0",
      "model_name": "FloatProgressModel",
      "state": {
       "_dom_classes": [],
       "_model_module": "@jupyter-widgets/controls",
       "_model_module_version": "1.5.0",
       "_model_name": "FloatProgressModel",
       "_view_count": null,
       "_view_module": "@jupyter-widgets/controls",
       "_view_module_version": "1.5.0",
       "_view_name": "ProgressView",
       "bar_style": "",
       "description": "",
       "description_tooltip": null,
       "layout": "IPY_MODEL_ec70965212e94f48bcb26a06e35537ef",
       "max": 100,
       "min": 0,
       "orientation": "horizontal",
       "style": "IPY_MODEL_532bc91b170e41b3a629468eea9597e0",
       "value": 100
      }
     },
     "bd8e882a876c490cbbed0e87b47195f6": {
      "model_module": "@jupyter-widgets/base",
      "model_module_version": "1.2.0",
      "model_name": "LayoutModel",
      "state": {
       "_model_module": "@jupyter-widgets/base",
       "_model_module_version": "1.2.0",
       "_model_name": "LayoutModel",
       "_view_count": null,
       "_view_module": "@jupyter-widgets/base",
       "_view_module_version": "1.2.0",
       "_view_name": "LayoutView",
       "align_content": null,
       "align_items": null,
       "align_self": null,
       "border": null,
       "bottom": null,
       "display": null,
       "flex": null,
       "flex_flow": null,
       "grid_area": null,
       "grid_auto_columns": null,
       "grid_auto_flow": null,
       "grid_auto_rows": null,
       "grid_column": null,
       "grid_gap": null,
       "grid_row": null,
       "grid_template_areas": null,
       "grid_template_columns": null,
       "grid_template_rows": null,
       "height": null,
       "justify_content": null,
       "justify_items": null,
       "left": null,
       "margin": null,
       "max_height": null,
       "max_width": null,
       "min_height": null,
       "min_width": null,
       "object_fit": null,
       "object_position": null,
       "order": null,
       "overflow": null,
       "overflow_x": null,
       "overflow_y": null,
       "padding": null,
       "right": null,
       "top": null,
       "visibility": null,
       "width": "auto"
      }
     },
     "ec70965212e94f48bcb26a06e35537ef": {
      "model_module": "@jupyter-widgets/base",
      "model_module_version": "1.2.0",
      "model_name": "LayoutModel",
      "state": {
       "_model_module": "@jupyter-widgets/base",
       "_model_module_version": "1.2.0",
       "_model_name": "LayoutModel",
       "_view_count": null,
       "_view_module": "@jupyter-widgets/base",
       "_view_module_version": "1.2.0",
       "_view_name": "LayoutView",
       "align_content": null,
       "align_items": null,
       "align_self": null,
       "border": null,
       "bottom": null,
       "display": null,
       "flex": null,
       "flex_flow": null,
       "grid_area": null,
       "grid_auto_columns": null,
       "grid_auto_flow": null,
       "grid_auto_rows": null,
       "grid_column": null,
       "grid_gap": null,
       "grid_row": null,
       "grid_template_areas": null,
       "grid_template_columns": null,
       "grid_template_rows": null,
       "height": null,
       "justify_content": null,
       "justify_items": null,
       "left": null,
       "margin": null,
       "max_height": null,
       "max_width": null,
       "min_height": null,
       "min_width": null,
       "object_fit": null,
       "object_position": null,
       "order": null,
       "overflow": null,
       "overflow_x": null,
       "overflow_y": null,
       "padding": null,
       "right": null,
       "top": null,
       "visibility": null,
       "width": "auto"
      }
     }
    },
    "version_major": 2,
    "version_minor": 0
   }
  }
 },
 "nbformat": 4,
 "nbformat_minor": 5
}
