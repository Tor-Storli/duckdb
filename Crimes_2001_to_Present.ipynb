{
 "cells": [
  {
   "cell_type": "markdown",
   "id": "6f76b253",
   "metadata": {},
   "source": [
    "- #### Download data from here:<br>\n",
    "https://catalog.data.gov/dataset/crimes-2001-to-present/resource/31b027d7-b633-4e82-ad2e-cfa5caaf5837\n"
   ]
  },
  {
   "cell_type": "markdown",
   "id": "34eb8d86",
   "metadata": {
    "papermill": {
     "duration": 0.00981,
     "end_time": "2023-11-13T02:34:29.154247",
     "exception": false,
     "start_time": "2023-11-13T02:34:29.144437",
     "status": "completed"
    },
    "tags": []
   },
   "source": [
    "### Install Python Libraries\n"
   ]
  },
  {
   "cell_type": "markdown",
   "id": "b5b0ba5f",
   "metadata": {},
   "source": [
    "#### Run this command in your python (virtual) environment\n"
   ]
  },
  {
   "cell_type": "markdown",
   "id": "2474d7f2",
   "metadata": {
    "papermill": {
     "duration": 16.751593,
     "end_time": "2023-11-13T02:34:45.915211",
     "exception": false,
     "start_time": "2023-11-13T02:34:29.163618",
     "status": "completed"
    },
    "tags": []
   },
   "source": [
    "#### <i> `pip install duckdb magic_duckdb polars plotly_express nbformat --quiet --user` </i>\n"
   ]
  },
  {
   "cell_type": "markdown",
   "id": "bb101e17",
   "metadata": {},
   "source": [
    "#### 1. duckdb:\n",
    "\n",
    "DuckDB is an embedded analytical SQL database for Python.\n",
    "It is designed for fast query execution and low memory usage.\n",
    "Developers often use it for data analysis, data manipulation, and reporting.\n",
    "You can find more information about DuckDB on their official website .\n",
    "\n",
    "#### 2. magic_duckdb:\n",
    "\n",
    "magic_duckdb is a Python package that provides Jupyter Notebook magic commands for interacting with DuckDB.\n",
    "It allows you to run SQL queries against DuckDB directly within a Jupyter Notebook.\n",
    "You can explore its usage and documentation in the GitHub repository: <br> https://github.com/iqmo-org/magic_duckdb, or here:<br>https://pypi.org/project/magic-duckdb/\n",
    "\n",
    "#### 3. Polars:\n",
    "\n",
    "Polars is a fast DataFrame library for Python and Rust.\n",
    "It is designed for big data processing and provides a similar interface to Pandas.\n",
    "Polars is particularly useful for working with large datasets efficiently.\n",
    "To learn more about Polars visit the official website:<br> https://pola.rs/\n",
    "\n",
    "#### 4. Plotly Express:\n",
    "\n",
    "Plotly Express is a high-level Python visualization library built on top of Plotly.\n",
    "It simplifies the creation of interactive plots, charts, and graphs.\n",
    "With Plotly Express, you can quickly generate visualizations without writing extensive code.\n",
    "Explore its capabilities in the official documentation: <br>https://plotly.com/python/plotly-express/\n",
    "\n",
    "#### 5. nbformat:\n",
    "\n",
    "nbformat is a Python library for working with Jupyter Notebook file formats.\n",
    "It allows you to read, write, and manipulate Jupyter Notebook files programmatically.\n",
    "Developers often use it for tasks like converting notebooks to different formats or extracting cell content.\n",
    "You can find more details in the official documentation: <br>https://nbformat.readthedocs.io/en/latest/ and here: <br>https://pypi.org/project/nbformat/\n",
    "\n",
    "Source:  <font color=\"orange\"><i>Microsoft Copilot. (2024). Python libraries. Retrieved from the OpenAI ChatGPT platform.</i></font>"
   ]
  },
  {
   "cell_type": "markdown",
   "id": "282d3699",
   "metadata": {},
   "source": [
    "#### Use the `--quiet` flag to suppress output during installation, and the `--user` flag to install the packages in your user-specific Python environment.\n"
   ]
  },
  {
   "cell_type": "code",
   "execution_count": null,
   "id": "8afe5265",
   "metadata": {},
   "outputs": [],
   "source": [
    "# .torenv\\Scripts\\Activate.ps1"
   ]
  },
  {
   "cell_type": "code",
   "execution_count": null,
   "id": "f5405b1d",
   "metadata": {
    "papermill": {
     "duration": 1.752742,
     "end_time": "2023-11-13T02:35:02.517852",
     "exception": false,
     "start_time": "2023-11-13T02:35:00.765110",
     "status": "completed"
    },
    "tags": []
   },
   "outputs": [],
   "source": [
    "import duckdb\n",
    "import pandas as pd\n",
    "\n",
    "%load_ext magic_duckdb"
   ]
  },
  {
   "cell_type": "markdown",
   "id": "9ee647a6",
   "metadata": {
    "papermill": {
     "duration": 0.010081,
     "end_time": "2023-11-13T02:35:02.789867",
     "exception": false,
     "start_time": "2023-11-13T02:35:02.779786",
     "status": "completed"
    },
    "tags": []
   },
   "source": [
    "#### We already installed and loaded the duckdb magic in our notebook. Let us take advantage of it <br>so that we don't repeate `duckdb.sql` ever time. <br>Instead we can use: <br>\n",
    "\n",
    "- `%dql` for single line queries and:<br>\n",
    "- `%%dql` for multi-line queries instead\n"
   ]
  },
  {
   "cell_type": "markdown",
   "id": "9d2e6616",
   "metadata": {
    "papermill": {
     "duration": 0.010418,
     "end_time": "2023-11-13T02:35:02.885296",
     "exception": false,
     "start_time": "2023-11-13T02:35:02.874878",
     "status": "completed"
    },
    "tags": []
   },
   "source": [
    "##### Because we are using the magic_duckdb extension, our queries will return a Pandas DataFrame, <br> bringing the entire query result into memory.\n",
    "\n",
    "##### We can avoid this by setting the type of return by using `\"-t\"` followed by the type, choosing from \"df\", \"arrow\", \"pl\", \"describe\", \"show\" and \"relation\".\n"
   ]
  },
  {
   "cell_type": "markdown",
   "id": "7cfd21ce",
   "metadata": {},
   "source": [
    "#### Show pandas dataframe without cutting out some rows in the display"
   ]
  },
  {
   "cell_type": "code",
   "execution_count": null,
   "id": "f83eaf4c",
   "metadata": {},
   "outputs": [],
   "source": [
    "# Set Pandas to display all rows without truncation\n",
    "pd.set_option('display.max_rows', None)"
   ]
  },
  {
   "cell_type": "markdown",
   "id": "a975eca5",
   "metadata": {},
   "source": [
    "#### `duckdb_settings()` is a Table Function: This function returns a table with information about all configuration <br>options and their current values. ####"
   ]
  },
  {
   "cell_type": "markdown",
   "id": "fb25d098",
   "metadata": {},
   "source": [
    "#### Get duckdb metadata parameters"
   ]
  },
  {
   "cell_type": "code",
   "execution_count": null,
   "id": "785d5dbb",
   "metadata": {},
   "outputs": [],
   "source": [
    "%dql -t df SELECT * FROM duckdb_settings();"
   ]
  },
  {
   "cell_type": "code",
   "execution_count": null,
   "id": "1176d8c5",
   "metadata": {},
   "outputs": [],
   "source": [
    "%dql SELECT * EXCLUDE input_type FROM duckdb_settings() WHERE name = 'memory_limit';"
   ]
  },
  {
   "cell_type": "markdown",
   "id": "29260bcb",
   "metadata": {},
   "source": [
    "### Parquet File Format"
   ]
  },
  {
   "cell_type": "markdown",
   "id": "b604c9b1",
   "metadata": {},
   "source": [
    "#### - The Parquet file format is widely recognized as one of the most efficient storage <br>options in today’s data landscape. Here are some reasons why it’s considered a de-facto standard: \n",
    "\n",
    "- <b> <font color=\"#B0FC38\">Data Compression: </font></b> Parquet files apply various encoding and compression algorithms, resulting in reduced memory consumption.\n",
    "Columnar Storage: In analytic workloads, where fast data read operations are crucial, Parquet’s column-based storage shines. It stores values from each column together, enabling efficient query processing.\n",
    "Language Agnostic: Developers can manipulate Parquet data using different programming languages, making it versatile for diverse data teams.\n",
    "- <b><font color=\"#B0FC38\">Open-Source Format:  </font></b> Parquet is not tied to a specific vendor, ensuring flexibility and compatibility.\n",
    "Now, let’s explore the differences between row-based and column-based storage:\n",
    "\n",
    "- <b><font color=\"#B0FC38\">Row-Based Storage: </font></b> In traditional row-based storage, data is stored as a sequence of rows. Imagine a table with rows representing individual records. However, this approach may not be optimal for OLAP scenarios where specific questions need quick answers (e.g., sales inquiries).\n",
    "- <b><font color=\"#B0FC38\">Column-Based Storage (Parquet): </font></b> Parquet stores data in a column-oriented manner. Each column is independently accessible, making encoding, compression, and optimization possible. This design significantly improves performance for analytical queries.<br><br>\n",
    "Source:  <font color=\"orange\"><i>Microsoft Copilot. (2024). Parquet File Format. Retrieved from the OpenAI ChatGPT platform.</i></font>"
   ]
  },
  {
   "cell_type": "markdown",
   "id": "be84e434",
   "metadata": {},
   "source": [
    "#### For an excellent discussion and in-depth look at the parquet file structure, <br>check out this simplified but yet very good explanation that Data-Mozart provided:<br><i> https://data-mozart.com/parquet-file-format-everything-you-need-to-know/<br><br>https://www.youtube.com/watch?v=5NA57Pfpdr4&t=1s</i>"
   ]
  },
  {
   "cell_type": "markdown",
   "id": "6a4cdf2d",
   "metadata": {},
   "source": [
    "#### Let us look at the datatypes in the parquet file - <i>Note the duckdb sql syntax </i>"
   ]
  },
  {
   "cell_type": "code",
   "execution_count": null,
   "id": "2d7c6244",
   "metadata": {},
   "outputs": [],
   "source": [
    "%%dql\n",
    "DESCRIBE FROM 'Crimes_2001_to_Present.parquet';"
   ]
  },
  {
   "cell_type": "markdown",
   "id": "809fb3dd",
   "metadata": {},
   "source": [
    "#### Get RowCount from Parquet file"
   ]
  },
  {
   "cell_type": "code",
   "execution_count": null,
   "id": "1f2f68ad",
   "metadata": {},
   "outputs": [],
   "source": [
    "%%dql -t df\n",
    "select format('{:,}', count(*)) as count from 'Crimes_2001_to_Present.parquet';"
   ]
  },
  {
   "cell_type": "markdown",
   "id": "3f076a64",
   "metadata": {},
   "source": [
    "#### Let us look at the parquet metadata"
   ]
  },
  {
   "cell_type": "code",
   "execution_count": null,
   "id": "8c9f4386",
   "metadata": {},
   "outputs": [],
   "source": [
    "%%dql -t df\n",
    "select * from parquet_metadata('Crimes_2001_to_Present.parquet') LIMIT 20;"
   ]
  },
  {
   "cell_type": "code",
   "execution_count": null,
   "id": "d5dbfecd",
   "metadata": {},
   "outputs": [],
   "source": [
    "%%dql -t df\n",
    "select * from PARQUET_SCHEMA('Crimes_2001_to_Present.parquet') LIMIT 20"
   ]
  },
  {
   "cell_type": "code",
   "execution_count": null,
   "id": "2da61f6f",
   "metadata": {},
   "outputs": [],
   "source": [
    "%dql -t df SELECT * FROM 'Crimes_2001_to_Present.parquet' LIMIT 3;"
   ]
  },
  {
   "cell_type": "markdown",
   "id": "7d4e749c",
   "metadata": {},
   "source": [
    "#### Let us take a look at the file's columns and datatypes"
   ]
  },
  {
   "cell_type": "code",
   "execution_count": null,
   "id": "5b91bcb3",
   "metadata": {},
   "outputs": [],
   "source": [
    "%dql DESCRIBE FROM 'Crimes_2001_to_Present.parquet';"
   ]
  },
  {
   "cell_type": "markdown",
   "id": "572fa04d",
   "metadata": {},
   "source": [
    "#### Let us group the data in the parquet file using the Primary Type column\n"
   ]
  },
  {
   "cell_type": "code",
   "execution_count": null,
   "id": "8667fea2",
   "metadata": {},
   "outputs": [],
   "source": [
    "%%dql\n",
    "SELECT \"Primary Type\", FORMAT('{:,}', COUNT(*)) AS RowCount\n",
    "FROM 'Crimes_2001_to_Present.parquet'\n",
    "GROUP BY \"Primary Type\"\n",
    "ORDER BY COUNT(*) DESC;"
   ]
  },
  {
   "cell_type": "markdown",
   "id": "24c60338",
   "metadata": {},
   "source": [
    "#### Let us add the year to the grouping of the data, and filter out the data less than 2019"
   ]
  },
  {
   "cell_type": "code",
   "execution_count": null,
   "id": "2ebac5b9",
   "metadata": {},
   "outputs": [],
   "source": [
    "%%dql -o df1\n",
    "SELECT  date_part('year', DATE) AS year, \n",
    "\"Primary Type\", COUNT(*) AS RowCount\n",
    "FROM 'Crimes_2001_to_Present.parquet'\n",
    "WHERE \"Primary Type\" IN('THEFT', 'MOTOR VEHICLE THEFT','ROBBERY','HOMICIDE','BURGLARY')\n",
    "AND date_part('year', DATE) > 2018\n",
    "GROUP BY date_part('year', DATE), \"Primary Type\"\n",
    "ORDER BY year DESC, COUNT(*) DESC;"
   ]
  },
  {
   "cell_type": "markdown",
   "id": "802a507b",
   "metadata": {},
   "source": [
    "#### let us style our newly created pandas DataFrame"
   ]
  },
  {
   "cell_type": "code",
   "execution_count": null,
   "id": "e72e665e",
   "metadata": {},
   "outputs": [],
   "source": [
    "df2 = df1.copy()\n",
    "df2[['year', 'Primary Type', 'RowCount']].style.background_gradient(cmap='PuBu', axis=0)"
   ]
  },
  {
   "cell_type": "code",
   "execution_count": null,
   "id": "9d1ceacb",
   "metadata": {},
   "outputs": [],
   "source": [
    "df3 = df1.copy()\n",
    "cols=['Primary Type', 'year','RowCount']\n",
    "(df3[cols]  #.head(10)\n",
    "   .style.background_gradient(axis=0).highlight_min(color='lightgreen')\n",
    ")"
   ]
  },
  {
   "cell_type": "markdown",
   "id": "022e6892",
   "metadata": {},
   "source": [
    "#### Find current working directory path"
   ]
  },
  {
   "cell_type": "code",
   "execution_count": null,
   "id": "01066f06",
   "metadata": {},
   "outputs": [],
   "source": [
    "%pwd "
   ]
  },
  {
   "cell_type": "markdown",
   "id": "c20ef128",
   "metadata": {},
   "source": [
    "#### END OF FILE"
   ]
  }
 ],
 "metadata": {
  "kernelspec": {
   "display_name": "Python 3 (ipykernel)",
   "language": "python",
   "name": "python3"
  },
  "language_info": {
   "codemirror_mode": {
    "name": "ipython",
    "version": 3
   },
   "file_extension": ".py",
   "mimetype": "text/x-python",
   "name": "python",
   "nbconvert_exporter": "python",
   "pygments_lexer": "ipython3",
   "version": "3.10.13"
  },
  "papermill": {
   "default_parameters": {},
   "duration": 63.440365,
   "end_time": "2023-11-13T02:35:29.131027",
   "environment_variables": {},
   "exception": null,
   "input_path": "__notebook__.ipynb",
   "output_path": "__notebook__.ipynb",
   "parameters": {},
   "start_time": "2023-11-13T02:34:25.690662",
   "version": "2.4.0"
  },
  "widgets": {
   "application/vnd.jupyter.widget-state+json": {
    "state": {
     "003fb92d1b4f46a0b7f2f84c16a6d040": {
      "model_module": "@jupyter-widgets/controls",
      "model_module_version": "1.5.0",
      "model_name": "FloatProgressModel",
      "state": {
       "_dom_classes": [],
       "_model_module": "@jupyter-widgets/controls",
       "_model_module_version": "1.5.0",
       "_model_name": "FloatProgressModel",
       "_view_count": null,
       "_view_module": "@jupyter-widgets/controls",
       "_view_module_version": "1.5.0",
       "_view_name": "ProgressView",
       "bar_style": "",
       "description": "",
       "description_tooltip": null,
       "layout": "IPY_MODEL_bd8e882a876c490cbbed0e87b47195f6",
       "max": 100,
       "min": 0,
       "orientation": "horizontal",
       "style": "IPY_MODEL_0f0edde2962e43e8a958fa8b141e281d",
       "value": 100
      }
     },
     "0f0edde2962e43e8a958fa8b141e281d": {
      "model_module": "@jupyter-widgets/controls",
      "model_module_version": "1.5.0",
      "model_name": "ProgressStyleModel",
      "state": {
       "_model_module": "@jupyter-widgets/controls",
       "_model_module_version": "1.5.0",
       "_model_name": "ProgressStyleModel",
       "_view_count": null,
       "_view_module": "@jupyter-widgets/base",
       "_view_module_version": "1.2.0",
       "_view_name": "StyleView",
       "bar_color": "black",
       "description_width": ""
      }
     },
     "532bc91b170e41b3a629468eea9597e0": {
      "model_module": "@jupyter-widgets/controls",
      "model_module_version": "1.5.0",
      "model_name": "ProgressStyleModel",
      "state": {
       "_model_module": "@jupyter-widgets/controls",
       "_model_module_version": "1.5.0",
       "_model_name": "ProgressStyleModel",
       "_view_count": null,
       "_view_module": "@jupyter-widgets/base",
       "_view_module_version": "1.2.0",
       "_view_name": "StyleView",
       "bar_color": "black",
       "description_width": ""
      }
     },
     "7916d1d878c94b0fa620cd24ba70cc6d": {
      "model_module": "@jupyter-widgets/controls",
      "model_module_version": "1.5.0",
      "model_name": "FloatProgressModel",
      "state": {
       "_dom_classes": [],
       "_model_module": "@jupyter-widgets/controls",
       "_model_module_version": "1.5.0",
       "_model_name": "FloatProgressModel",
       "_view_count": null,
       "_view_module": "@jupyter-widgets/controls",
       "_view_module_version": "1.5.0",
       "_view_name": "ProgressView",
       "bar_style": "",
       "description": "",
       "description_tooltip": null,
       "layout": "IPY_MODEL_a0844f1634b840ffb01457c3e71cdde8",
       "max": 100,
       "min": 0,
       "orientation": "horizontal",
       "style": "IPY_MODEL_83dc9071519742f796fbcf7e710edd13",
       "value": 100
      }
     },
     "83dc9071519742f796fbcf7e710edd13": {
      "model_module": "@jupyter-widgets/controls",
      "model_module_version": "1.5.0",
      "model_name": "ProgressStyleModel",
      "state": {
       "_model_module": "@jupyter-widgets/controls",
       "_model_module_version": "1.5.0",
       "_model_name": "ProgressStyleModel",
       "_view_count": null,
       "_view_module": "@jupyter-widgets/base",
       "_view_module_version": "1.2.0",
       "_view_name": "StyleView",
       "bar_color": "black",
       "description_width": ""
      }
     },
     "a0844f1634b840ffb01457c3e71cdde8": {
      "model_module": "@jupyter-widgets/base",
      "model_module_version": "1.2.0",
      "model_name": "LayoutModel",
      "state": {
       "_model_module": "@jupyter-widgets/base",
       "_model_module_version": "1.2.0",
       "_model_name": "LayoutModel",
       "_view_count": null,
       "_view_module": "@jupyter-widgets/base",
       "_view_module_version": "1.2.0",
       "_view_name": "LayoutView",
       "align_content": null,
       "align_items": null,
       "align_self": null,
       "border": null,
       "bottom": null,
       "display": null,
       "flex": null,
       "flex_flow": null,
       "grid_area": null,
       "grid_auto_columns": null,
       "grid_auto_flow": null,
       "grid_auto_rows": null,
       "grid_column": null,
       "grid_gap": null,
       "grid_row": null,
       "grid_template_areas": null,
       "grid_template_columns": null,
       "grid_template_rows": null,
       "height": null,
       "justify_content": null,
       "justify_items": null,
       "left": null,
       "margin": null,
       "max_height": null,
       "max_width": null,
       "min_height": null,
       "min_width": null,
       "object_fit": null,
       "object_position": null,
       "order": null,
       "overflow": null,
       "overflow_x": null,
       "overflow_y": null,
       "padding": null,
       "right": null,
       "top": null,
       "visibility": null,
       "width": "auto"
      }
     },
     "b45572af1bb340ee953203269545e738": {
      "model_module": "@jupyter-widgets/controls",
      "model_module_version": "1.5.0",
      "model_name": "FloatProgressModel",
      "state": {
       "_dom_classes": [],
       "_model_module": "@jupyter-widgets/controls",
       "_model_module_version": "1.5.0",
       "_model_name": "FloatProgressModel",
       "_view_count": null,
       "_view_module": "@jupyter-widgets/controls",
       "_view_module_version": "1.5.0",
       "_view_name": "ProgressView",
       "bar_style": "",
       "description": "",
       "description_tooltip": null,
       "layout": "IPY_MODEL_ec70965212e94f48bcb26a06e35537ef",
       "max": 100,
       "min": 0,
       "orientation": "horizontal",
       "style": "IPY_MODEL_532bc91b170e41b3a629468eea9597e0",
       "value": 100
      }
     },
     "bd8e882a876c490cbbed0e87b47195f6": {
      "model_module": "@jupyter-widgets/base",
      "model_module_version": "1.2.0",
      "model_name": "LayoutModel",
      "state": {
       "_model_module": "@jupyter-widgets/base",
       "_model_module_version": "1.2.0",
       "_model_name": "LayoutModel",
       "_view_count": null,
       "_view_module": "@jupyter-widgets/base",
       "_view_module_version": "1.2.0",
       "_view_name": "LayoutView",
       "align_content": null,
       "align_items": null,
       "align_self": null,
       "border": null,
       "bottom": null,
       "display": null,
       "flex": null,
       "flex_flow": null,
       "grid_area": null,
       "grid_auto_columns": null,
       "grid_auto_flow": null,
       "grid_auto_rows": null,
       "grid_column": null,
       "grid_gap": null,
       "grid_row": null,
       "grid_template_areas": null,
       "grid_template_columns": null,
       "grid_template_rows": null,
       "height": null,
       "justify_content": null,
       "justify_items": null,
       "left": null,
       "margin": null,
       "max_height": null,
       "max_width": null,
       "min_height": null,
       "min_width": null,
       "object_fit": null,
       "object_position": null,
       "order": null,
       "overflow": null,
       "overflow_x": null,
       "overflow_y": null,
       "padding": null,
       "right": null,
       "top": null,
       "visibility": null,
       "width": "auto"
      }
     },
     "ec70965212e94f48bcb26a06e35537ef": {
      "model_module": "@jupyter-widgets/base",
      "model_module_version": "1.2.0",
      "model_name": "LayoutModel",
      "state": {
       "_model_module": "@jupyter-widgets/base",
       "_model_module_version": "1.2.0",
       "_model_name": "LayoutModel",
       "_view_count": null,
       "_view_module": "@jupyter-widgets/base",
       "_view_module_version": "1.2.0",
       "_view_name": "LayoutView",
       "align_content": null,
       "align_items": null,
       "align_self": null,
       "border": null,
       "bottom": null,
       "display": null,
       "flex": null,
       "flex_flow": null,
       "grid_area": null,
       "grid_auto_columns": null,
       "grid_auto_flow": null,
       "grid_auto_rows": null,
       "grid_column": null,
       "grid_gap": null,
       "grid_row": null,
       "grid_template_areas": null,
       "grid_template_columns": null,
       "grid_template_rows": null,
       "height": null,
       "justify_content": null,
       "justify_items": null,
       "left": null,
       "margin": null,
       "max_height": null,
       "max_width": null,
       "min_height": null,
       "min_width": null,
       "object_fit": null,
       "object_position": null,
       "order": null,
       "overflow": null,
       "overflow_x": null,
       "overflow_y": null,
       "padding": null,
       "right": null,
       "top": null,
       "visibility": null,
       "width": "auto"
      }
     }
    },
    "version_major": 2,
    "version_minor": 0
   }
  }
 },
 "nbformat": 4,
 "nbformat_minor": 5
}
